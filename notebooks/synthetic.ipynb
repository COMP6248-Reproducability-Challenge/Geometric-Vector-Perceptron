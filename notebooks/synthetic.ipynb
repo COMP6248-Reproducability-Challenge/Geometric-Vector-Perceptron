{
 "metadata": {
  "language_info": {
   "codemirror_mode": {
    "name": "ipython",
    "version": 3
   },
   "file_extension": ".py",
   "mimetype": "text/x-python",
   "name": "python",
   "nbconvert_exporter": "python",
   "pygments_lexer": "ipython3",
   "version": "3.9.4"
  },
  "orig_nbformat": 2,
  "kernelspec": {
   "name": "python394jvsc74a57bd033606e95b3a5dd325a0113b777852e13f8ea2a02422ad13a2e1405f39e226753",
   "display_name": "Python 3.9.4 64-bit ('gvp': conda)"
  },
  "metadata": {
   "interpreter": {
    "hash": "33606e95b3a5dd325a0113b777852e13f8ea2a02422ad13a2e1405f39e226753"
   }
  }
 },
 "nbformat": 4,
 "nbformat_minor": 2,
 "cells": [
  {
   "cell_type": "code",
   "execution_count": 1,
   "metadata": {},
   "outputs": [],
   "source": [
    "%load_ext autoreload\n",
    "%autoreload 2"
   ]
  },
  {
   "cell_type": "code",
   "execution_count": 2,
   "metadata": {},
   "outputs": [],
   "source": [
    "import numpy as np\n",
    "from pathlib import Path\n",
    "\n",
    "import torch\n",
    "from geometric_vector_perceptron import GVP_Network"
   ]
  },
  {
   "cell_type": "code",
   "execution_count": 3,
   "metadata": {},
   "outputs": [],
   "source": [
    "data_path = Path(\"../data/synthetic\")"
   ]
  },
  {
   "cell_type": "code",
   "execution_count": 4,
   "metadata": {},
   "outputs": [],
   "source": [
    "cnn = torch.from_numpy(np.load(data_path/\"cnn.npy\"))\n",
    "synthetic = torch.from_numpy(np.load(data_path/\"synthetic.npy\"))\n",
    "with np.load(data_path/\"answers.npz\") as data:\n",
    "    off_center = torch.from_numpy(data[\"off_center\"])\n",
    "    perimeter = torch.from_numpy(data[\"perimeter\"])"
   ]
  },
  {
   "cell_type": "code",
   "execution_count": 6,
   "metadata": {},
   "outputs": [
    {
     "output_type": "execute_result",
     "data": {
      "text/plain": [
       "torch.Size([20000, 2, 100, 3])"
      ]
     },
     "metadata": {},
     "execution_count": 6
    }
   ],
   "source": [
    "synthetic.shape"
   ]
  },
  {
   "cell_type": "code",
   "execution_count": null,
   "metadata": {},
   "outputs": [],
   "source": []
  }
 ]
}