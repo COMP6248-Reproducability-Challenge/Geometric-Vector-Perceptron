{
 "cells": [
  {
   "cell_type": "code",
   "execution_count": 1,
   "metadata": {},
   "outputs": [],
   "source": [
    "%load_ext autoreload\n",
    "%autoreload 2"
   ]
  },
  {
   "cell_type": "code",
   "execution_count": 8,
   "metadata": {},
   "outputs": [],
   "source": [
    "from pathlib import Path\n",
    "\n",
    "import pytorch_lightning as pl\n",
    "\n",
    "import torch\n",
    "from torch import nn\n",
    "from torch_geometric.nn import knn_graph\n",
    "from torch_geometric import transforms\n",
    "from torch_geometric.data import Data, DataLoader\n",
    "from torchmetrics.functional import mean_squared_error\n",
    "\n",
    "from gvp import SyntheticGNN, SyntheticGVP, SyntheticDataModule\n",
    "from gvp.gvp import _split"
   ]
  },
  {
   "cell_type": "code",
   "execution_count": 3,
   "metadata": {},
   "outputs": [],
   "source": [
    "data_dir = Path(\"../data/synthetic\")"
   ]
  },
  {
   "cell_type": "code",
   "execution_count": 17,
   "metadata": {},
   "outputs": [],
   "source": [
    "model = SyntheticGVP((1, 1), (20, 4), (1, 1), (20, 4))\n",
    "\n",
    "transform = transforms.Compose([\n",
    "    transforms.KNNGraph(k=10),\n",
    "    transforms.Cartesian(),\n",
    "    transforms.Distance(),\n",
    "])\n",
    "\n",
    "dm = SyntheticDataModule(data_dir, 32, \"off_center\", transform, num_workers=2)\n",
    "dm.setup('fit')\n",
    "\n",
    "# data0 = next(iter(dm.train_dataloader()))\n",
    "# data0.x"
   ]
  },
  {
   "cell_type": "code",
   "execution_count": 18,
   "metadata": {},
   "outputs": [
    {
     "name": "stdout",
     "output_type": "stream",
     "text": [
      "torch.Size([32])\n",
      "tensor(7.0538, grad_fn=<DivBackward0>)\n"
     ]
    }
   ],
   "source": [
    "for batch in dm.train_dataloader():\n",
    "    h_V = _split(batch.x, 1)\n",
    "    edge_index = batch.edge_index\n",
    "    h_E = _split(batch.edge_attr, 1)\n",
    "    out = model(h_V, edge_index, h_E, batch=batch.batch)\n",
    "    print(out.shape)\n",
    "    loss = mean_squared_error(out, batch.y)\n",
    "    print(loss)\n",
    "    break"
   ]
  },
  {
   "cell_type": "code",
   "execution_count": null,
   "metadata": {},
   "outputs": [],
   "source": []
  }
 ],
 "metadata": {
  "kernelspec": {
   "display_name": "Python 3.9.4 64-bit ('gvp': conda)",
   "name": "python3710jvsc74a57bd033606e95b3a5dd325a0113b777852e13f8ea2a02422ad13a2e1405f39e226753"
  },
  "language_info": {
   "codemirror_mode": {
    "name": "ipython",
    "version": 3
   },
   "file_extension": ".py",
   "mimetype": "text/x-python",
   "name": "python",
   "nbconvert_exporter": "python",
   "pygments_lexer": "ipython3",
   "version": "3.7.10"
  },
  "metadata": {
   "interpreter": {
    "hash": "33606e95b3a5dd325a0113b777852e13f8ea2a02422ad13a2e1405f39e226753"
   }
  },
  "orig_nbformat": 3
 },
 "nbformat": 4,
 "nbformat_minor": 2
}