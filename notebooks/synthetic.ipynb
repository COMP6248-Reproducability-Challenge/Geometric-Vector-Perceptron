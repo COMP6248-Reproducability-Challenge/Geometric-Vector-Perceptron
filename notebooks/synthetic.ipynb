{
 "cells": [
  {
   "cell_type": "code",
   "execution_count": 14,
   "metadata": {},
   "outputs": [
    {
     "name": "stdout",
     "output_type": "stream",
     "text": [
      "The autoreload extension is already loaded. To reload it, use:\n",
      "  %reload_ext autoreload\n"
     ]
    }
   ],
   "source": [
    "%load_ext autoreload\n",
    "%autoreload 2"
   ]
  },
  {
   "cell_type": "code",
   "execution_count": 15,
   "metadata": {},
   "outputs": [],
   "source": [
    "import numpy as np\n",
    "from pathlib import Path\n",
    "\n",
    "import torch\n",
    "from torch_geometric.nn import knn_graph\n",
    "from torch_geometric import transforms\n",
    "from torch_geometric.data import Data, DataLoader\n",
    "\n",
    "from geometric_vector_perceptron import GVP_Network"
   ]
  },
  {
   "cell_type": "code",
   "execution_count": 16,
   "metadata": {},
   "outputs": [],
   "source": [
    "data_path = Path(\"../data/synthetic\")"
   ]
  },
  {
   "cell_type": "code",
   "execution_count": 30,
   "metadata": {},
   "outputs": [],
   "source": [
    "cnn = torch.from_numpy(np.load(data_path/\"cnn.npy\"))\n",
    "synthetic = torch.from_numpy(np.load(data_path/\"synthetic.npy\"))\n",
    "with np.load(data_path/\"answers.npz\") as data:\n",
    "    # off_center = torch.from_numpy(data[\"off_center\"])\n",
    "    perimeter = torch.from_numpy(data[\"perimeter\"])\n",
    "off_center = torch.from_numpy(np.load(data_path/\"ocr.npy\"))"
   ]
  },
  {
   "cell_type": "code",
   "execution_count": 42,
   "metadata": {},
   "outputs": [
    {
     "data": {
      "text/plain": "torch.Size([20000, 2, 100, 3])"
     },
     "execution_count": 42,
     "metadata": {},
     "output_type": "execute_result"
    }
   ],
   "source": [
    "synthetic.shape"
   ]
  },
  {
   "cell_type": "code",
   "execution_count": 22,
   "metadata": {},
   "outputs": [],
   "source": [
    "num_structs = synthetic.shape[0] # number of protein structures, 20k"
   ]
  },
  {
   "cell_type": "code",
   "execution_count": 105,
   "metadata": {},
   "outputs": [],
   "source": [
    "# add one-hot vector to the last dimension\n",
    "is_special = torch.zeros((20000, 2, 100, 1))\n",
    "is_special[:, 1, :3] = 1 \n",
    "synthetic = torch.cat([synthetic, is_special], dim=3) # (2000, 2, 100, 3) -> (20000, 2, 100, 4) -- last channel corresponds to is_special"
   ]
  },
  {
   "cell_type": "code",
   "execution_count": 112,
   "metadata": {},
   "outputs": [],
   "source": [
    "synthetic_transforms = transforms.Compose(\n",
    "    [\n",
    "        transforms.KNNGraph(k=10),\n",
    "        transforms.Cartesian()\n",
    "    ]\n",
    ")\n",
    "\n",
    "data_list = [synthetic_transforms(Data(x=synthetic[n, 1], pos=synthetic[n, 0, :, :3], y=torch.tensor([off_center[n], perimeter[n]]))) for n in range(num_structs)]"
   ]
  },
  {
   "cell_type": "code",
   "execution_count": 113,
   "metadata": {},
   "outputs": [
    {
     "data": {
      "text/plain": "Data(edge_attr=[1000, 3], edge_index=[2, 1000], pos=[100, 3], x=[100, 4], y=[2])"
     },
     "execution_count": 113,
     "metadata": {},
     "output_type": "execute_result"
    }
   ],
   "source": [
    "data_list[0]"
   ]
  },
  {
   "cell_type": "code",
   "execution_count": 114,
   "metadata": {},
   "outputs": [],
   "source": [
    "dataloader = DataLoader(data_list, batch_size=32)"
   ]
  },
  {
   "cell_type": "code",
   "execution_count": 115,
   "metadata": {},
   "outputs": [
    {
     "data": {
      "text/plain": "Batch(batch=[3200], edge_attr=[32000, 3], edge_index=[2, 32000], pos=[3200, 3], ptr=[33], x=[3200, 4], y=[64])"
     },
     "execution_count": 115,
     "metadata": {},
     "output_type": "execute_result"
    }
   ],
   "source": [
    "next(iter(dataloader))"
   ]
  },
  {
   "cell_type": "code",
   "execution_count": null,
   "metadata": {},
   "outputs": [],
   "source": []
  }
 ],
 "metadata": {
  "kernelspec": {
   "display_name": "Python 3.9.4 64-bit ('gvp': conda)",
   "name": "python394jvsc74a57bd033606e95b3a5dd325a0113b777852e13f8ea2a02422ad13a2e1405f39e226753"
  },
  "language_info": {
   "codemirror_mode": {
    "name": "ipython",
    "version": 3
   },
   "file_extension": ".py",
   "mimetype": "text/x-python",
   "name": "python",
   "nbconvert_exporter": "python",
   "pygments_lexer": "ipython3",
   "version": "3.9.4"
  },
  "metadata": {
   "interpreter": {
    "hash": "33606e95b3a5dd325a0113b777852e13f8ea2a02422ad13a2e1405f39e226753"
   }
  },
  "orig_nbformat": 2
 },
 "nbformat": 4,
 "nbformat_minor": 2
}